{
 "cells": [
  {
   "cell_type": "markdown",
   "id": "d3a4bb27",
   "metadata": {},
   "source": [
    "# Assignment 8 Solutions"
   ]
  },
  {
   "cell_type": "markdown",
   "id": "823845d3",
   "metadata": {},
   "source": [
    "#### 1. Write a Python Program to Add two Matrices ?"
   ]
  },
  {
   "cell_type": "code",
   "execution_count": 1,
   "id": "6dd2fd5c",
   "metadata": {},
   "outputs": [
    {
     "name": "stdout",
     "output_type": "stream",
     "text": [
      "Inputs: [[1, 2, 3], [4, 5, 6], [7, 8, 9]],[[9, 8, 7], [6, 5, 4], [3, 2, 1]]\n",
      "Output: [[10, 10, 10], [10, 10, 10], [10, 10, 10]]\n",
      "Inputs: [[2, 3, 5], [1, 1, 1], [2, 2, 2]],[[4, 3, 5], [1, 2, 3], [3, 2, 1]]\n",
      "Output: [[6, 6, 10], [2, 3, 4], [5, 4, 3]]\n"
     ]
    }
   ],
   "source": [
    "def addMatrices(e,f):\n",
    "    print(f'Inputs: {e},{f}')\n",
    "    if len(e) == len(f):\n",
    "        out_matrix = []\n",
    "        for ele in range(len(e)):\n",
    "            if len(e[ele]) == len(f[ele]):\n",
    "                out_matrix.append([])\n",
    "                for sub_ele in range(len(e[ele])):\n",
    "                    out_matrix[ele].append(e[ele][sub_ele]+f[ele][sub_ele])\n",
    "            else:\n",
    "                print('Both Matrices must contains same no of rows and columns') \n",
    "    else:\n",
    "        print('Both Matrices must contains same no of rows and columns')\n",
    "    print(f'Output: {out_matrix}')\n",
    "\n",
    "addMatrices([[1,2,3],[4,5,6],[7,8,9]],[[9,8,7],[6,5,4],[3,2,1]])\n",
    "addMatrices([[2,3,5],[1,1,1],[2,2,2]],[[4,3,5],[1,2,3],[3,2,1]])"
   ]
  },
  {
   "cell_type": "markdown",
   "id": "9e6c1983",
   "metadata": {},
   "source": [
    "#### 2. Write a Python Program to Multiply two Matrices ?"
   ]
  },
  {
   "cell_type": "code",
   "execution_count": 3,
   "id": "e5c57cb3",
   "metadata": {},
   "outputs": [
    {
     "name": "stdout",
     "output_type": "stream",
     "text": [
      "[[88, 132, 78], [102, 146, 101], [77, 110, 76]]\n"
     ]
    }
   ],
   "source": [
    "c= [[5,6,7],[8,7,5],[6,5,4]]\n",
    "d = [[7,8,9],[3,6,2],[5,8,3]]\n",
    "\n",
    "def matrix_multiplication(c,d):\n",
    "    output = []\n",
    "    if len(c[0]) == len(d):\n",
    "        for ele in range(len(c[0])):\n",
    "            output.append([0 for ele in range(len(d[0]))])\n",
    "        for i in range(len(c)):\n",
    "            for j in range(len(c[0])):\n",
    "                for k in range(len(c)):\n",
    "                    output[i][j] += c[i][k]*d[k][j]\n",
    "        print(output)     \n",
    "    else:\n",
    "        print('Matrix Multiplication is Not Possible')\n",
    "        \n",
    "matrix_multiplication(c,d)"
   ]
  },
  {
   "cell_type": "markdown",
   "id": "c2705b7d",
   "metadata": {},
   "source": [
    "#### 3. Write a Python Program to transpose a Matrix ?"
   ]
  },
  {
   "cell_type": "code",
   "execution_count": 25,
   "id": "08afb7ff",
   "metadata": {},
   "outputs": [
    {
     "name": "stdout",
     "output_type": "stream",
     "text": [
      "[[6, 5, 7], [2, 4, 6], [3, 5, 7]] -> [[6, 2, 3], [5, 4, 5], [7, 6, 7]]\n",
      "[[1, 2], [4, 5], [7, 8]] -> [[1, 4, 7], [2, 5, 8]]\n",
      "[[5, 6, 5], [4, 5, 3]] -> [[5, 4], [6, 5], [5, 3]]\n"
     ]
    }
   ],
   "source": [
    "a = [[6,5,7],[2,4,6],[3,5,7]]\n",
    "b = [[1,2],[4,5],[7,8]]\n",
    "c = [[5,6,5],[4,5,3]]\n",
    "\n",
    "def transpose_matrix(imatrix):\n",
    "    matrix = []\n",
    "    for ele in range(len(imatrix[0])):\n",
    "        matrix.append([0 for i in range(len(imatrix))])\n",
    "    for i in range(len(imatrix)):\n",
    "        for j in range(len(imatrix[i])):\n",
    "            matrix[j][i] = imatrix[i][j]\n",
    "    print(f'{imatrix} -> {matrix}')\n",
    "        \n",
    "transpose_matrix(a)\n",
    "transpose_matrix(b)\n",
    "transpose_matrix(c)"
   ]
  },
  {
   "cell_type": "markdown",
   "id": "5b6207c1",
   "metadata": {},
   "source": [
    "#### 4. Write a Python Program to sort Words in an Alphabatical Order ?"
   ]
  },
  {
   "cell_type": "code",
   "execution_count": 13,
   "id": "d6e5de3d",
   "metadata": {},
   "outputs": [
    {
     "name": "stdout",
     "output_type": "stream",
     "text": [
      "Enter a String to sort: Hi Are You Working Today ?\n",
      "?  Are  Hi  Today  Working  You\n"
     ]
    }
   ],
   "source": [
    "def sortString():\n",
    "    input_string = input(\"Enter a String to sort: \").title()\n",
    "    sorted_list = sorted(input_string.split(' '))\n",
    "    print('  '.join(sorted_list))\n",
    "\n",
    "sortString()"
   ]
  },
  {
   "cell_type": "markdown",
   "id": "eb0e084d",
   "metadata": {},
   "source": [
    "#### 5. Write a Python Program to remove Punctuations From a String ?"
   ]
  },
  {
   "cell_type": "code",
   "execution_count": 18,
   "id": "08c0196d",
   "metadata": {},
   "outputs": [
    {
     "name": "stdout",
     "output_type": "stream",
     "text": [
      "Enter a String: &*%*&%*asbdjsagdkja(*&&(*&9\n",
      "asbdjsagdkja9\n"
     ]
    }
   ],
   "source": [
    "def withoutPunctuations():\n",
    "    punctuations = '''!()-[]{};:'\"\\,<>./?@#$%^&*_~'''\n",
    "    string = input('Enter a String: ')\n",
    "    string_op = ''\n",
    "    for ele in string:\n",
    "        if ele not in punctuations:\n",
    "            string_op += ele\n",
    "    print(string_op)\n",
    "    \n",
    "withoutPunctuations()"
   ]
  },
  {
   "cell_type": "code",
   "execution_count": null,
   "id": "direct-attachment",
   "metadata": {},
   "outputs": [],
   "source": []
  }
 ],
 "metadata": {
  "kernelspec": {
   "display_name": "Python 3",
   "language": "python",
   "name": "python3"
  },
  "language_info": {
   "codemirror_mode": {
    "name": "ipython",
    "version": 3
   },
   "file_extension": ".py",
   "mimetype": "text/x-python",
   "name": "python",
   "nbconvert_exporter": "python",
   "pygments_lexer": "ipython3",
   "version": "3.9.7"
  }
 },
 "nbformat": 4,
 "nbformat_minor": 5
}
